{
 "cells": [
  {
   "cell_type": "code",
   "execution_count": 1,
   "id": "abd7d2c9-4379-4d1a-a000-1f0c9000d358",
   "metadata": {},
   "outputs": [
    {
     "name": "stdout",
     "output_type": "stream",
     "text": [
      "Sampel hasil percobaan: \n",
      "[[1 4 5]]\n",
      "\n",
      "Probabilitas massa dari sampel yang dihasilkan:  [0.0637875]\n"
     ]
    }
   ],
   "source": [
    "#Distribusi Multinomial\n",
    "import numpy as np\n",
    "from scipy.stats import multinomial\n",
    "\n",
    "#Definisikan parameter distribusi multinomial\n",
    "n_trials_gwen = 10 #jumlah prcobaan\n",
    "probabilitas_gwen = [0.2, 0.3, 0.5] #probabilitas untuk masing masing kategori\n",
    "\n",
    "#Buat objek distribusi multinomial\n",
    "multinom_dist = multinomial(n_trials_gwen, probabilitas_gwen)\n",
    "\n",
    "#generate sampel dari distribusi multinomial\n",
    "sample = multinom_dist.rvs()\n",
    "\n",
    "print(\"Sampel hasil percobaan: \")\n",
    "print(sample)\n",
    "\n",
    "#Hitung probabilitas massa dari sampel yang dihasilkan \n",
    "pmf_sample = multinom_dist.pmf(sample)\n",
    "print(\"\\nProbabilitas massa dari sampel yang dihasilkan: \", pmf_sample)"
   ]
  },
  {
   "cell_type": "code",
   "execution_count": 2,
   "id": "2e703faf-e515-428c-8ea9-d0303724d084",
   "metadata": {},
   "outputs": [
    {
     "name": "stdout",
     "output_type": "stream",
     "text": [
      "Probabilitas massa:  0.04053909860481753\n"
     ]
    }
   ],
   "source": [
    "from scipy.stats import multinomial\n",
    "\n",
    "#parameter\n",
    "n_trials = 20\n",
    "probabilitas = [8/20, 6/20, 6/20] #probabilitas nasi goreng, mie goreng, dan ayam goreng\n",
    "\n",
    "#buat objek distribusi multinomial\n",
    "multinom_dist = multinomial(n_trials, probabilitas)\n",
    "\n",
    "#hitung probabilitas massa\n",
    "outcome = [8, 6, 6] #jumlah pelanggan yang memilih masing masing makanan\n",
    "pmf_outcome = multinom_dist.pmf(outcome)\n",
    "\n",
    "print(\"Probabilitas massa: \", pmf_outcome)"
   ]
  },
  {
   "cell_type": "code",
   "execution_count": 3,
   "id": "d14416d2-1723-4073-b089-71027403df2c",
   "metadata": {},
   "outputs": [
    {
     "name": "stdout",
     "output_type": "stream",
     "text": [
      "probabilitaas massa:  0.2150850071849252\n"
     ]
    }
   ],
   "source": [
    "#Distribusi hipergeometrik\n",
    "import numpy as np\n",
    "from scipy.stats import hypergeom\n",
    "\n",
    "#Definisikan parameter distribusi hipergeometrik\n",
    "N = 50 #jumlah total elemen dalam populasi\n",
    "K = 20 #jumlah elemen yang dianggap sukses dalam populasi\n",
    "n = 10 # jumlah pengambilan sampel tanpa pengembalian\n",
    "k = 5 #jumlah sukses yang ingin diperoleh dalam sampel\n",
    "\n",
    "#buat objek distribusi hipergeometrik\n",
    "hypergeom_dist = hypergeom(N, K, n)\n",
    "\n",
    "#Hitung probabilitas massa dari k sukses dalam n pengambilan sampel\n",
    "pmf_value = hypergeom_dist.pmf(k)\n",
    "\n",
    "print(\"probabilitaas massa: \", pmf_value)"
   ]
  },
  {
   "cell_type": "code",
   "execution_count": 4,
   "id": "595f185d-837a-4c38-822f-86d5056cee73",
   "metadata": {},
   "outputs": [
    {
     "name": "stdout",
     "output_type": "stream",
     "text": [
      "probabilitas massa:  [0.31787183 0.29800484 0.31787183]\n"
     ]
    }
   ],
   "source": [
    "from scipy.stats import hypergeom\n",
    "\n",
    "#Parameter\n",
    "N = 30 #jumlah total bola dalam kotak\n",
    "K = 10 #jumlah bola bewarna merah\n",
    "n = 8 # jumlah bola yang diambil secara acak tanpa pengembalian\n",
    "k1 = 3 #jumlah bola bewarna merah yang diinginkan \n",
    "k2 = 2 #jumlah bola bewarna biru yang diinginkan \n",
    "k3 = 3 #jumlah bola bewarna hijau yang diinginkan \n",
    "\n",
    "#buat objek distribusi hipergeometrik\n",
    "hypergeom_dist = hypergeom(N, K, n)\n",
    "\n",
    "#Hitung probabilitas massa \n",
    "pmf_value = hypergeom_dist.pmf([k1, k2, k3])\n",
    "\n",
    "print(\"probabilitas massa: \", pmf_value)"
   ]
  },
  {
   "cell_type": "code",
   "execution_count": 7,
   "id": "6fe799ae-9bc6-459e-80a3-3a30965663f9",
   "metadata": {},
   "outputs": [
    {
     "name": "stdout",
     "output_type": "stream",
     "text": [
      "sampel hasil distribusi poisson: \n",
      "[2 2 3 3 1 7 2 2 4 1]\n",
      "\n",
      "Probabilitas massa dari sampel yang dihasilkan:  [0.27067057 0.27067057 0.18044704 0.18044704 0.27067057 0.00343709\n",
      " 0.27067057 0.27067057 0.09022352 0.27067057]\n"
     ]
    }
   ],
   "source": [
    "#Distribusi poisson\n",
    "import numpy as np\n",
    "from scipy.stats import poisson\n",
    "\n",
    "#Definisikan parameter distribusi poisson \n",
    "mu = 2 #parameter lambda (tingkat kejadian)\n",
    "\n",
    "#buat objek distribusi poisson\n",
    "poisson_dist = poisson(mu)\n",
    "\n",
    "#Generate sampel dari distribusi poisson\n",
    "sample = poisson_dist.rvs(size=10) #menghasilkan 10 sampel acak dari distribusi\n",
    "\n",
    "print(\"sampel hasil distribusi poisson: \")\n",
    "print(sample)\n",
    "\n",
    "#Hitung probabilitas massa dari sampel yang dihasilkan\n",
    "pmf_sample = poisson_dist.pmf(sample)\n",
    "print(\"\\nProbabilitas massa dari sampel yang dihasilkan: \", pmf_sample)"
   ]
  },
  {
   "cell_type": "code",
   "execution_count": 8,
   "id": "5f1f880f-92e1-43c5-aa06-367a589c4ee2",
   "metadata": {},
   "outputs": [
    {
     "name": "stdout",
     "output_type": "stream",
     "text": [
      "Peluang bahwa akan tiba tepat 6 paket dalam jam berikutnya:  0.10419563456702102\n"
     ]
    }
   ],
   "source": [
    "from scipy.stats import poisson\n",
    "\n",
    "#parameter distribusi poisson\n",
    "mu = 4 #tingkat kejadian (rata-rata paket per jam)\n",
    "\n",
    "#mencari probabilitas massa untuk tepat 6 paket\n",
    "prob_tepat_6 = poisson.pmf(6, mu)\n",
    "\n",
    "print(\"Peluang bahwa akan tiba tepat 6 paket dalam jam berikutnya: \", prob_tepat_6)"
   ]
  },
  {
   "cell_type": "code",
   "execution_count": null,
   "id": "44ab51ec-2df2-4fc2-9398-2fa721022722",
   "metadata": {},
   "outputs": [],
   "source": []
  },
  {
   "cell_type": "code",
   "execution_count": null,
   "id": "e0d97867-d558-4663-adc0-675835f1413d",
   "metadata": {},
   "outputs": [],
   "source": []
  }
 ],
 "metadata": {
  "kernelspec": {
   "display_name": "Python 3 (ipykernel)",
   "language": "python",
   "name": "python3"
  },
  "language_info": {
   "codemirror_mode": {
    "name": "ipython",
    "version": 3
   },
   "file_extension": ".py",
   "mimetype": "text/x-python",
   "name": "python",
   "nbconvert_exporter": "python",
   "pygments_lexer": "ipython3",
   "version": "3.11.5"
  }
 },
 "nbformat": 4,
 "nbformat_minor": 5
}
